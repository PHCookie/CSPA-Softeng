{
 "cells": [
  {
   "attachments": {},
   "cell_type": "markdown",
   "metadata": {},
   "source": [
    "Importing Library Pandas DataFrame"
   ]
  },
  {
   "cell_type": "code",
   "execution_count": null,
   "metadata": {},
   "outputs": [],
   "source": [
    "import pandas as pd"
   ]
  },
  {
   "attachments": {},
   "cell_type": "markdown",
   "metadata": {},
   "source": [
    "Using Machine Learning 'Random Forest' for Score Classification"
   ]
  },
  {
   "cell_type": "code",
   "execution_count": null,
   "metadata": {},
   "outputs": [],
   "source": [
    "def byRandomForest(dataset):\n",
    "\n",
    "    from sklearn.model_selection import train_test_split\n",
    "    \n",
    "    # Used as the basis/FICO accurate data \n",
    "    df = pd.read_csv('data/FICODATA_modified.csv')\n",
    "    # USed as the current data to predict\n",
    "    testingFrame = dataset\n",
    "    \n",
    "    # Using Generated Credit Score as class indicator\n",
    "    header = ['payhis','amtowed','lenofcrhis','newcred']\n",
    "    \n",
    "    X = df[header]\n",
    "    y = df[\"FICO Score\"]\n",
    "\n",
    "    # Processing Model\n",
    "    X_train, X_test, y_train, y_test = train_test_split(X, y, test_size=0.3, random_state=14)\n",
    "    from sklearn.ensemble import RandomForestClassifier\n",
    "    rf_model = RandomForestClassifier(n_estimators=50, random_state=14)\n",
    "    rf_model.fit(X_train, y_train)\n",
    "\n",
    "    from sklearn import metrics\n",
    "\n",
    "    # Dataset Class Score Prediction\n",
    "    preddata = testingFrame[header]\n",
    "    result = rf_model.predict(preddata)\n",
    "    \n",
    "    #Saving to CSV\n",
    "    testingFrame[\"Class Score\"] = result\n",
    "\n",
    "    return testingFrame"
   ]
  },
  {
   "attachments": {},
   "cell_type": "markdown",
   "metadata": {},
   "source": [
    "Using the'CSPA scoring' ranges for Score Classification"
   ]
  },
  {
   "cell_type": "code",
   "execution_count": null,
   "metadata": {},
   "outputs": [],
   "source": [
    "def byCSPA(dataset):\n",
    "    \n",
    "        #######-----------SCORE CATEGORIZATION---------------########\n",
    "    #Create new score column\n",
    "    dataset['CSPA Score'] = ''\n",
    "\n",
    "    #Filter  Credit Scores Greater than 0 and less than 850.(FICO score range)\n",
    "    filter_score = dataset[(dataset[\"Score\"] > 0)]\n",
    "    filter_score = filter_score[(filter_score[\"Score\"] > 0) & (filter_score[\"Score\"] <= 990)] \n",
    "\n",
    "    #5. Exceptional Credit Scores\n",
    "    filter_score['CSPA Score'] = filter_score['CSPA Score'].mask(filter_score[\"Score\"] >= 831, filter_score['CSPA Score'].replace('',\"Exceptional\"))\n",
    "\n",
    "    #4. VERY GOOD Credit Scores\n",
    "    filter_score['CSPA Score'] = filter_score['CSPA Score'].mask(filter_score[\"Score\"] >= 731, filter_score['CSPA Score'].replace('', \"Very Good\"))\n",
    "\n",
    "\n",
    "    #3. Good Credit Scores\n",
    "    filter_score['CSPA Score'] = filter_score['CSPA Score'].mask(filter_score[\"Score\"] >= 571, filter_score['CSPA Score'].replace('',\"Good\"))\n",
    "\n",
    "\n",
    "    #2. Fair Credit Scores\n",
    "    filter_score['CSPA Score'] = filter_score['CSPA Score'].mask(filter_score[\"Score\"] >= 400, filter_score['CSPA Score'].replace('',\"Fair\"))\n",
    "\n",
    "\n",
    "    #1. Poor Credit Scores\n",
    "    filter_score['CSPA Score'] = filter_score['CSPA Score'].mask(filter_score[\"Score\"] > 0, filter_score['CSPA Score'].replace('',\"Poor\"))\n",
    "\n",
    "    return filter_score"
   ]
  },
  {
   "attachments": {},
   "cell_type": "markdown",
   "metadata": {},
   "source": [
    "Count each class amount. Used only for Graphing"
   ]
  },
  {
   "cell_type": "code",
   "execution_count": null,
   "metadata": {},
   "outputs": [],
   "source": [
    "def obtain(dataset):\n",
    "\n",
    "    #1. Poor Credit Scores\n",
    "    poor = dataset[(dataset[\"Class Score\"] == \"Poor\")]  \n",
    "\n",
    "    #2. Fair Credit Scores \n",
    "    fair = dataset[(dataset[\"Class Score\"] == \"Fair\")]  \n",
    "\n",
    "    #3. Good Credit Scores \n",
    "    good = dataset[(dataset[\"Class Score\"] == \"Good\")]\n",
    "\n",
    "    #4. VERY GOOD Credit Scores   \n",
    "    verygood = dataset[(dataset[\"Class Score\"] == \"Very Good\")]    \n",
    "\n",
    "    #5. Exceptional Credit Scores]    \n",
    "    exceptional = dataset[(dataset[\"Class Score\"] == \"Exceptional\")]  \n",
    "\n",
    "    Total = [len(poor), len(fair), len(good), len(verygood),len(exceptional)]\n",
    "    \n",
    "    return Total"
   ]
  }
 ],
 "metadata": {
  "kernelspec": {
   "display_name": "Python 3",
   "language": "python",
   "name": "python3"
  },
  "language_info": {
   "name": "python",
   "version": "3.11.2"
  },
  "orig_nbformat": 4,
  "vscode": {
   "interpreter": {
    "hash": "cb4738586e064a08b4d97f94eda37e2757e941070673529cebce4a3b806911cb"
   }
  }
 },
 "nbformat": 4,
 "nbformat_minor": 2
}
