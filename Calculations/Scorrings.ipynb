{
 "cells": [
  {
   "attachments": {},
   "cell_type": "markdown",
   "metadata": {},
   "source": [
    "SCORE CALCULATION ALGORITHM"
   ]
  },
  {
   "attachments": {},
   "cell_type": "markdown",
   "metadata": {},
   "source": [
    "a.) Payment History"
   ]
  },
  {
   "cell_type": "code",
   "execution_count": null,
   "metadata": {},
   "outputs": [],
   "source": [
    "def getscore(dataset):\n",
    "   #1. PAYMENT HISTORY -----------------------------------------------------| (feature 7)\n",
    "\n",
    "    # 1( Loan Amount , Credit balance) How many payments made\n",
    "    loan_amount = dataset[\"Current Loan Amount\"]\n",
    "    monthly_debt = dataset[\"Monthly Debt\"]\n",
    "\n",
    "    #1.a Monthly Percentage Paid from Overall Loan\n",
    "    cal= (monthly_debt/loan_amount) * 100\n",
    "    # processing it to a logarithmic scoring value\n",
    "    calc_value = (2 ** (-1/cal)) * 90\n",
    "\n",
    "    #1.b Years of Credit History\n",
    "    years_ch = dataset[\"Years of Credit History\"]\n",
    "    years_ch = (1.8 ** (-1/years_ch)) * 140\n",
    "\n",
    "    #FINAL SCORE FOR PAYMENT HISTORY\n",
    "    final_minor1_score=round(calc_value + years_ch, 2)\n",
    "\n",
    "    #END OF PAYMENT HISTORY--------------------------------------------------|"
   ]
  },
  {
   "attachments": {},
   "cell_type": "markdown",
   "metadata": {},
   "source": [
    "b.) Amounts Owed"
   ]
  },
  {
   "cell_type": "code",
   "execution_count": null,
   "metadata": {},
   "outputs": [],
   "source": [
    "   #2. AMOUNTS OWED --------------------------------------------------------| (feature 8)\n",
    "\n",
    "    value1 = dataset[\"Current Loan Amount\"]\n",
    "    value2 = dataset[\"Maximum Open Credit\"]\n",
    "\n",
    "    #2.a Current Loan Amount\n",
    "    # current loan amount has the highest feature importance\n",
    "    loan = (1.8 ** (-1/value1)) * 135\n",
    "\n",
    "    #2.b Credit Limit Percentage\n",
    "    limit = value1 / value2 * 100\n",
    "    # Processing through arithmetic value\n",
    "    credlim = (round(2100000000/(20000000+(( limit ) ** 4)))) + 90\n",
    "\n",
    "    #FINAL SCORE FOR PAYMENT HISTORY\n",
    "    final_minor2_score = credlim + loan\n",
    "\n",
    "    #END OF AMOUNTS OWED ----------------------------------------------------|"
   ]
  },
  {
   "attachments": {},
   "cell_type": "markdown",
   "metadata": {},
   "source": [
    "c.) Length of Credit History"
   ]
  },
  {
   "cell_type": "code",
   "execution_count": null,
   "metadata": {},
   "outputs": [],
   "source": [
    " #3. LENGTH OF CREDIT HISTORY---------------------------------------------| (feature 9)\n",
    "\n",
    "    #Ignore delinquent above 84\n",
    "    deduct_delinquent = dataset[dataset[\"Months since last delinquent\"] <= 1000 ]\n",
    "    added = deduct_delinquent.replace(0, 900)\n",
    "    deducted = round(15600/(160+(added[\"Months since last delinquent\"] ** 2)))\n",
    "\n",
    "    #1.2 Years of credit history converted to points 1yr=2.67\n",
    "    years = years_ch * 2.67\n",
    "    # limiting score\n",
    "    years = (7 ** (1/-years)) * 160.6            \n",
    "\n",
    "    #FINAL SCORE FOR LENGTH OF CREDIT HISTORY\n",
    "    final_minor3_score = years - (deducted/2)\n",
    "\n",
    "    #END OF LENGTH OF CREDIT HISTORY-----------------------------------------| (feature 10)"
   ]
  },
  {
   "attachments": {},
   "cell_type": "markdown",
   "metadata": {},
   "source": [
    "d.) New Credit/Credit Mix"
   ]
  },
  {
   "cell_type": "code",
   "execution_count": null,
   "metadata": {},
   "outputs": [],
   "source": [
    "\n",
    "    #4 NEW CREDIT / CREDIT MIX-----------------------------------------------|\n",
    "\n",
    "    final_minor4_score = (((5 ** (-2/dataset[\"Number of Open Accounts\"])) * 10)+20) * 2\n",
    "\n",
    "    #END OF NEW CREDIT / CREDIT MIX------------------------------------------|"
   ]
  },
  {
   "attachments": {},
   "cell_type": "markdown",
   "metadata": {},
   "source": [
    "TOTAL SCORES"
   ]
  },
  {
   "cell_type": "code",
   "execution_count": null,
   "metadata": {},
   "outputs": [],
   "source": [
    "    Credit_score = final_minor1_score + final_minor2_score + final_minor3_score + final_minor4_score\n",
    "    format_Credit_score = round(Credit_score)"
   ]
  },
  {
   "attachments": {},
   "cell_type": "markdown",
   "metadata": {},
   "source": [
    "SAVING SCORES TO CSV"
   ]
  },
  {
   "cell_type": "code",
   "execution_count": null,
   "metadata": {},
   "outputs": [],
   "source": [
    "    dataset[\"payhis\"] = final_minor1_score\n",
    "    dataset[\"amtowed\"] = final_minor2_score\n",
    "    dataset[\"lenofcrhis\"] = final_minor3_score\n",
    "    dataset[\"newcred\"] = final_minor4_score\n",
    "    dataset[\"Score\"] = format_Credit_score\n",
    "\n",
    "    return dataset"
   ]
  }
 ],
 "metadata": {
  "kernelspec": {
   "display_name": "Python 3",
   "language": "python",
   "name": "python3"
  },
  "language_info": {
   "name": "python",
   "version": "3.11.2"
  },
  "orig_nbformat": 4,
  "vscode": {
   "interpreter": {
    "hash": "cb4738586e064a08b4d97f94eda37e2757e941070673529cebce4a3b806911cb"
   }
  }
 },
 "nbformat": 4,
 "nbformat_minor": 2
}
