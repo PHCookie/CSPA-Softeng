{
 "cells": [
  {
   "attachments": {},
   "cell_type": "markdown",
   "metadata": {},
   "source": [
    "Libraries for Options Module Code"
   ]
  },
  {
   "cell_type": "code",
   "execution_count": null,
   "metadata": {},
   "outputs": [],
   "source": [
    "from colorama import Fore\n",
    "import matplotlib.pyplot as plt\n",
    "import pandas as pd\n",
    "from time import sleep\n"
   ]
  },
  {
   "attachments": {},
   "cell_type": "markdown",
   "metadata": {},
   "source": [
    "Options List"
   ]
  },
  {
   "cell_type": "code",
   "execution_count": null,
   "metadata": {},
   "outputs": [],
   "source": [
    "########-----OPTIONS LIST-----########\n",
    "def options_list():\n",
    "    print(\"\\n\\nPLEASE CHOOSE AN OPTION!\")\n",
    "    print(f\"\\n\\n{Fore.GREEN}[A] {Fore.WHITE}View Customer Info.\")\n",
    "    print(f\"\\n{Fore.GREEN}[B] {Fore.WHITE}Show Credit Score.\")\n",
    "    print(f\"\\n{Fore.GREEN}[C] {Fore.WHITE}Check Credit Score Bar Graph.\")\n",
    "    print(f\"\\n{Fore.GREEN}[D] {Fore.WHITE}Enter new user data.\")\n",
    "    print(f\"\\n{Fore.GREEN}[E] {Fore.WHITE}About the CSPA.\")\n",
    "    print(f\"\\n{Fore.RED}[F] {Fore.WHITE}Exit.\")\n",
    "########-----END OF OPTIONS LIST-----########"
   ]
  },
  {
   "attachments": {},
   "cell_type": "markdown",
   "metadata": {},
   "source": [
    "Bar Chart Function"
   ]
  },
  {
   "cell_type": "code",
   "execution_count": null,
   "metadata": {},
   "outputs": [],
   "source": [
    "########-----LOAN  BAR CHART-----######## \n",
    "def bar_chart(category):\n",
    "    Number_of_Customer = category\n",
    "    Category = ['Poor','Fair','Good','Very Good','Exceptional']\n",
    "\n",
    "    print(\"check\")\n",
    "    plt.bar(Category, Number_of_Customer)\n",
    "    plt.title('Credit Scores Categorization')\n",
    "    plt.xlabel('Category')\n",
    "    plt.ylabel('Number of Customer')\n",
    "    plt.show()\n",
    "#######-----------END OF BAR CHART-----------########"
   ]
  },
  {
   "attachments": {},
   "cell_type": "markdown",
   "metadata": {},
   "source": [
    "Viewing Customer ID Information"
   ]
  },
  {
   "cell_type": "code",
   "execution_count": null,
   "metadata": {},
   "outputs": [],
   "source": [
    "def askidshow():\n",
    "    Exit = False\n",
    "\n",
    "    while Exit == False:\n",
    "        newdataset = pd.read_csv('data/Dataset_Scored.csv')\n",
    "        askinputid = input(f\"{Fore.GREEN}\\nPlease enter Customer ID:\")\n",
    "        try:\n",
    "            ifnum = int(askinputid)\n",
    "            if ifnum >=1 and ifnum <=122:\n",
    "                print(newdataset.iloc[ifnum-1])\n",
    "                print(\"\\n\")\n",
    "                print(\"(Press 'N' to exit anytime)\")\n",
    "            else:\n",
    "                print(\"Sorry! That ID does not exist.\")\n",
    "            continue\n",
    "        except:\n",
    "            if askinputid.capitalize() == 'N':\n",
    "                print(f\"{Fore.RED}\\nExiting... \\n\\n\")\n",
    "                Exit = True\n",
    "            else:\n",
    "                print(\"Invalid input.\")\n",
    "                continue"
   ]
  },
  {
   "attachments": {},
   "cell_type": "markdown",
   "metadata": {},
   "source": [
    "Ask user input for new data"
   ]
  },
  {
   "cell_type": "code",
   "execution_count": null,
   "metadata": {},
   "outputs": [],
   "source": [
    "def newuser(ID):\n",
    "#ask user input\n",
    "    LoanAmnt = input(\"\\nEnter customer 'Current Loan Amount':\")\n",
    "    CreditBal = input(\"\\nEnter customer 'Current Credit Balance':\")\n",
    "    MonthDebt = input(\"\\nEnter customer 'Monthly Debt':\")\n",
    "    YearsJob = input(\"\\nEnter customer 'Years in current job':\")\n",
    "    CredHist = input(\"\\nEnter customer 'Years of Credit History':\")\n",
    "    OpenAcc = input(\"\\nEnter customer 'Number of Open Accounts':\")\n",
    "    MonthDel = input(\"\\nEnter customer 'Months since last delinquent':\")\n",
    "    MaxOpCred = input(\"\\nEnter customer 'Maximum Open Credit':\")\n",
    "\n",
    "\n",
    "    dict = {'Customer ID': ID+1, 'Current Loan Amount': LoanAmnt, 'Current Credit Balance': CreditBal,\n",
    "            'Monthly Debt': MonthDebt, 'Years in current job': YearsJob, 'Years of Credit History': CredHist,\n",
    "            'Number of Open Accounts': OpenAcc, 'Months since last delinquent': MonthDel, 'Maximum Open Credit': MaxOpCred}\n",
    "\n",
    " \n",
    "\n",
    "    new = [ID+1,LoanAmnt,CreditBal,MonthDebt,YearsJob, CredHist, OpenAcc, MonthDel, MaxOpCred]\n",
    "    print(\"\\n\\nPlease review input: \\n\", dict)\n",
    "    sleep(1.50)\n",
    "\n",
    "    while True:\n",
    "    \n",
    "        input1 = input(\"\\n\\nRedo information (Y/N)?: \")\n",
    "\n",
    "        if input1.capitalize() == \"Y\":\n",
    "            newuser(ID)\n",
    "\n",
    "        elif input1.capitalize() == \"N\":\n",
    "            break\n",
    "\n",
    "        else:\n",
    "            print('Wrong input.') \n",
    "\n",
    "\n",
    "    return dict\n",
    "\n"
   ]
  }
 ],
 "metadata": {
  "kernelspec": {
   "display_name": "Python 3",
   "language": "python",
   "name": "python3"
  },
  "language_info": {
   "name": "python",
   "version": "3.11.2"
  },
  "orig_nbformat": 4,
  "vscode": {
   "interpreter": {
    "hash": "cb4738586e064a08b4d97f94eda37e2757e941070673529cebce4a3b806911cb"
   }
  }
 },
 "nbformat": 4,
 "nbformat_minor": 2
}
