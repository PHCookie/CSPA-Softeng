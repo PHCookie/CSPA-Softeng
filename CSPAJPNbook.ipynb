{
 "cells": [
  {
   "attachments": {},
   "cell_type": "markdown",
   "metadata": {},
   "source": [
    "IMPORTING REQUIRED LIBRARIES FOR ALGORITHM\n"
   ]
  },
  {
   "cell_type": "code",
   "execution_count": 1,
   "metadata": {},
   "outputs": [],
   "source": [
    "#LIBRARIES\n",
    "import pandas as pd\n",
    "import os\n",
    "#Color Text\n",
    "import colorama\n",
    "from colorama import Back, Fore\n",
    "#Progress Bars\n",
    "from alive_progress import alive_bar\n",
    "import time\n",
    "#Delay output\n",
    "from time import sleep\n",
    "import csv\n",
    "#importing made-modules\n",
    "import Calculations.scoring as cal \n",
    "import Calculations.classification as classi\n",
    "import Displaytool.tools as tool\n",
    "from csv import DictWriter"
   ]
  },
  {
   "attachments": {},
   "cell_type": "markdown",
   "metadata": {},
   "source": [
    "ALGORITHM HEADER DISPLAY"
   ]
  },
  {
   "cell_type": "code",
   "execution_count": 2,
   "metadata": {},
   "outputs": [
    {
     "name": "stdout",
     "output_type": "stream",
     "text": [
      "|--------------------WELCOME TO--------------------|\n",
      "|-----------------------CSPA-----------------------|\n",
      "|---------------------ALGORITHM--------------------|\n",
      "|--------------------------------------------------|\n",
      "|By: CS Warriors-----------------------------------|\n",
      "\n",
      "\n"
     ]
    }
   ],
   "source": [
    "#######-----------HEADER---------------########\n",
    "colorama.init(autoreset=True)\n",
    "print(Back.BLACK +\"|--------------------WELCOME TO--------------------|\")\n",
    "print(Back.BLACK +f\"|-----------------------{Fore.RED}C{Fore.BLUE}S{Fore.CYAN}P{Fore.GREEN}A-{Fore.WHITE}----------------------|\")\n",
    "print(Back.BLACK +\"|---------------------ALGORITHM--------------------|\")\n",
    "print(Back.BLACK +\"|--------------------------------------------------|\")\n",
    "print(Back.BLACK +f\"|{Fore.GREEN}By: CS Warriors{Fore.WHITE}-----------------------------------|\")\n",
    "print(\"\\n\")\n",
    "#######-----------END OF HEADER---------------########"
   ]
  },
  {
   "attachments": {},
   "cell_type": "markdown",
   "metadata": {},
   "source": [
    "DISPLAYING LOADING ALIVE-PROGRESS BARS"
   ]
  },
  {
   "cell_type": "code",
   "execution_count": 3,
   "metadata": {},
   "outputs": [
    {
     "name": "stdout",
     "output_type": "stream",
     "text": [
      "Loading Program :\n",
      "\n",
      "on 30: [30%]Checking Libraries..\n",
      "on 50: [50%]Checking Resources..\n",
      "on 75: [75%]Optimizing..\n",
      "on 99: [100%]Program Successfully Loaded\n",
      "|████████████████████████████████████████| 100/100 [100%] in 5.2s (19.41/s) \n"
     ]
    }
   ],
   "source": [
    "#######-----------LOADING PROGRESS BAR--------########\n",
    "#A. LOADING BAR\n",
    "print(\"Loading Program :\\n\")\n",
    "with alive_bar(100) as bar:\n",
    "    for i in range(100):\n",
    "        time.sleep(.050)\n",
    "        if i == 30:\n",
    "            print(f\"{Fore.GREEN}[30%]{Fore.WHITE}Checking Libraries..\")\n",
    "        if i == 50:\n",
    "            print(f\"{Fore.GREEN}[50%]{Fore.WHITE}Checking Resources..\")\n",
    "        if i == 75:\n",
    "            print(f\"{Fore.GREEN}[75%]{Fore.WHITE}Optimizing..\")\n",
    "        if i == 99:\n",
    "            print(f\"{Fore.GREEN}[100%]{Fore.WHITE}Program Successfully Loaded\")\n",
    "        bar()"
   ]
  },
  {
   "attachments": {},
   "cell_type": "markdown",
   "metadata": {},
   "source": [
    "IMPORTING DATASET AND CALL MODULES FOR CALCULATIONS AND CLASSIFICATION"
   ]
  },
  {
   "cell_type": "code",
   "execution_count": 4,
   "metadata": {},
   "outputs": [
    {
     "name": "stdout",
     "output_type": "stream",
     "text": [
      "\n",
      "Importing Dataset :\n",
      "\n",
      "on 25: [25%]Checking Dataset..\n",
      "on 50: [50%]Importing..\n",
      "on 75: [75%]Perform Calculations..\n",
      "on 99: [100%]Dataset Successfully loaded\n",
      "|████████████████████████████████████████| 100/100 [100%] in 17.1s (5.83/s) \n",
      "\n",
      "\n",
      "|---------------------SUCCESSFULLY LOADED--------------------|\n"
     ]
    }
   ],
   "source": [
    "#B. IMPORTING DATASET LOADING BAR\n",
    "print(\"\\nImporting Dataset :\\n\")\n",
    "with alive_bar(100) as bar:\n",
    "    for x in range(100):\n",
    "        time.sleep(.090)\n",
    "        if x == 25:\n",
    "            print(f\"{Fore.GREEN}[25%]{Fore.WHITE}Checking Dataset..\")\n",
    "            # Checking\n",
    "            dataset = pd.read_csv('data/Origin COOP.csv')\n",
    "            #To display values in 2 decimal places\n",
    "            pd.options.display.float_format = '{:.2f}'.format\n",
    "\n",
    "        if x == 50:\n",
    "            print(f\"{Fore.GREEN}[50%]{Fore.WHITE}Importing..\")\n",
    "            \n",
    "            #Cleaning\n",
    "            df = dataset[dataset[\"Current Loan Amount\"] < 999999 ]\n",
    "            clean_dataset = df.drop_duplicates(subset='Customer ID')\n",
    "\n",
    "        if x == 75:\n",
    "            print(f\"{Fore.GREEN}[75%]{Fore.WHITE}Perform Calculations..\")\n",
    "\n",
    "        #get calculation\n",
    "            scored = cal.getscore(dataset)\n",
    "            #get classification\n",
    "            final = classi.byRandomForest(scored)\n",
    "\n",
    "\n",
    "        if x == 99:\n",
    "            ###-----ADDING NEW COLUMNS WITH CALCULATED VALUES TO CSV-----###\n",
    "            ###------------SAVING CALCULATED CSV WITH SCORES-------------###\n",
    " \n",
    "            #to display all output values\n",
    "            pd.set_option(\"display.max_rows\", None, \"display.max_columns\", None)\n",
    "\n",
    "            # replace NaN values with 0\n",
    "            final= final.fillna(0)\n",
    "\n",
    "            final.to_csv('data/Dataset_Scored.csv', index=False)\n",
    "\n",
    "            print(f\"{Fore.GREEN}[100%]{Fore.WHITE}Dataset Successfully loaded\")\n",
    "        bar()\n",
    "\n",
    "print(Fore.GREEN +\"\\n\\n|---------------------SUCCESSFULLY LOADED--------------------|\")\n",
    "#######-----------END OF LOADING PROGRESS BAR--------########"
   ]
  },
  {
   "attachments": {},
   "cell_type": "markdown",
   "metadata": {},
   "source": [
    "ASKING USER INPUT FOR THE ALGORITHM FEATURES"
   ]
  },
  {
   "cell_type": "code",
   "execution_count": 5,
   "metadata": {},
   "outputs": [
    {
     "name": "stdout",
     "output_type": "stream",
     "text": [
      "\n",
      "\n",
      "PLEASE CHOOSE AN OPTION!\n",
      "\n",
      "\n",
      "[A] View Customer Info.\n",
      "\n",
      "[B] Show Credit Score.\n",
      "\n",
      "[C] Check Credit Score Bar Graph.\n",
      "\n",
      "[D] Enter new user data.\n",
      "\n",
      "[E] About the CSPA.\n",
      "\n",
      "[F] Exit.\n",
      "\n",
      "You've Choosen option F\n",
      "\n",
      "Closing...\n",
      "\n",
      "\n"
     ]
    }
   ],
   "source": [
    "######------ Options list to command------######\n",
    "tool.options_list()\n",
    "Exit = False\n",
    "#2. Ask for option and validate if valid input or not.\n",
    "while Exit == False:\n",
    "    try:\n",
    "        input1 = input(\"\\nSelect Option:\") \n",
    "\n",
    "        if input1.capitalize() == \"A\":\n",
    "            ###---Loan Info---###\n",
    "            print(f\"\\n{Fore.GREEN}You've Choosen option A\")\n",
    "            print(f\"\\n{Fore.GREEN}CUSTOMER ID LIST:\")\n",
    "\n",
    "            #1. Display CUSTOMER ID\n",
    "            with open('data/Dataset_Scored.csv', newline='') as csvfile:\n",
    "                newdataset1 = csv.DictReader(csvfile)\n",
    "                print(\"Customer ID\")\n",
    "                print(\"--------------------\")\n",
    "                for row in newdataset1:\n",
    "                    print(row['Customer ID'])\n",
    "                tool.askidshow()\n",
    "\n",
    "            #4. Display options after the while loop ended\n",
    "            sleep(2.60)\n",
    "            tool.options_list()\n",
    "            continue\n",
    "        elif input1.capitalize() == \"B\":\n",
    "            ###---Show CScore---###\n",
    "            print(f\"\\n{Fore.GREEN}You've Choosen option B\\n\\n\")\n",
    "            print(f\"\\n{Fore.GREEN}CREDIT SCORES LIST:\")\n",
    "            #1.display\n",
    "            with open('data/Dataset_Scored.csv', newline='') as csvfile:\n",
    "                newdataset2 = csv.DictReader(csvfile)\n",
    "                print(\"Customer ID | Credit Score | Class Score\")\n",
    "                print(\"---------------------------------\")\n",
    "                for row in newdataset2:\n",
    "                    print(row['Customer ID'],\"   \", row['Score'],\"   \",row['Class Score'])\n",
    "            \n",
    "        elif input1.capitalize() == \"C\": \n",
    "            ###---CScore BAR Graph---###\n",
    "            print(f\"\\n{Fore.GREEN}You've Choosen option C\")\n",
    "            print(f\"\\n{Fore.GREEN}BAR GRAPH:\")\n",
    "            Number_of_Customer = classi.obtain(pd.read_csv('data/Dataset_Scored.csv'))\n",
    "            tool.bar_chart(Number_of_Customer)\n",
    "            print(f\"\\n{Fore.RED}Graph Exited. Returning...\\n\\n\")\n",
    "            sleep(2.00)\n",
    "\n",
    "            tool.options_list()\n",
    "            continue\n",
    "\n",
    "        elif input1.capitalize() == \"E\": \n",
    "            ###---About CSPA---###\n",
    "            print(f\"\\n{Fore.GREEN}You've Choosen option E\")\n",
    "            print(f\"\\n{Fore.WHITE}CSPA by CSWarriors V.1\")\n",
    "            osCommandString = \"notepad.exe About_CSPA.txt\"\n",
    "            os.system(osCommandString)\n",
    "\n",
    "        elif input1.capitalize() == \"D\":\n",
    "            ###---New Data---###\n",
    "            print(f\"\\n{Fore.GREEN}You've Choosen option D\")\n",
    "\n",
    "            field_names = [['Customer ID', 'Current Loan Amount', 'Current Credit Balance',\n",
    "                'Monthly Debt', 'Years in current job','Years of Credit History',\n",
    "                'Number of Open Accounts', 'Months since last delinquent', 'Maximum Open Credit'],]\n",
    "\n",
    "            with open('data/Dataset_Scored.csv','a', newline='') as csvfile:    \n",
    "\n",
    "                # Gather new user data\n",
    "                dict = tool.newuser(dataset.iloc[-1,0])\n",
    "               \n",
    "                # Pass the dictionary as an argument to the Writerow()\n",
    "                dictwriter_object = DictWriter(csvfile, fieldnames=field_names[0])\n",
    "                dictwriter_object.writerow(dict)\n",
    "\n",
    "            dataset = pd.read_csv('data/Dataset_Scored.csv')\n",
    "            #get calculations\n",
    "            scored = cal.getscore(dataset)\n",
    "\n",
    "            #get classification\n",
    "            final = classi.byCSPA(scored)\n",
    "            final.to_csv('data/Dataset_Scored.csv', index=False)\n",
    "        \n",
    "        elif input1.capitalize() == \"F\":\n",
    "\n",
    "            print(f\"\\n{Fore.GREEN}You've Choosen option F\")\n",
    "            exitinputE = input(\"\\nAre you sure you want to exit? (Y/N):\") \n",
    "            if exitinputE.capitalize() == \"N\":\n",
    "                print(f\"\\n{Fore.GREEN}Returning...\\n\\n\")\n",
    "                tool.options_list()\n",
    "                continue\n",
    "            elif exitinputE.capitalize() == \"Y\":\n",
    "                print(f\"\\n{Fore.RED}Closing...\\n\\n\")\n",
    "                Exit == True\n",
    "                break\n",
    "            else:\n",
    "                print(f\"\\n{Fore.RED}Invalid input, returning... \\n\\n\")\n",
    "        #H.1 IF outside the options, then ask again\n",
    "        else:\n",
    "            input1 != \"A\" or \"B\" or \"C\" or \"D\" or \"E\" or \"F\"\n",
    "            print(f\"\\n{Fore.RED}Input is invalid.{Fore.GREEN} Please choose only on the options provided.\")\n",
    "            continue\n",
    "    except:\n",
    "        continue"
   ]
  }
 ],
 "metadata": {
  "kernelspec": {
   "display_name": "Python 3",
   "language": "python",
   "name": "python3"
  },
  "language_info": {
   "codemirror_mode": {
    "name": "ipython",
    "version": 3
   },
   "file_extension": ".py",
   "mimetype": "text/x-python",
   "name": "python",
   "nbconvert_exporter": "python",
   "pygments_lexer": "ipython3",
   "version": "3.11.2"
  },
  "orig_nbformat": 4,
  "vscode": {
   "interpreter": {
    "hash": "cb4738586e064a08b4d97f94eda37e2757e941070673529cebce4a3b806911cb"
   }
  }
 },
 "nbformat": 4,
 "nbformat_minor": 2
}
